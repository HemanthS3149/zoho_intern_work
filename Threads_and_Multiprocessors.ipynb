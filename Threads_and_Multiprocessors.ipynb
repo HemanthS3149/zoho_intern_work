{
  "nbformat": 4,
  "nbformat_minor": 0,
  "metadata": {
    "colab": {
      "provenance": [],
      "authorship_tag": "ABX9TyMPK5nIdkVwhETkPUtX2pWl",
      "include_colab_link": true
    },
    "kernelspec": {
      "name": "python3",
      "display_name": "Python 3"
    },
    "language_info": {
      "name": "python"
    }
  },
  "cells": [
    {
      "cell_type": "markdown",
      "metadata": {
        "id": "view-in-github",
        "colab_type": "text"
      },
      "source": [
        "<a href=\"https://colab.research.google.com/github/HemanthS3149/zoho_intern_work/blob/Week-1/Threads_and_Multiprocessors.ipynb\" target=\"_parent\"><img src=\"https://colab.research.google.com/assets/colab-badge.svg\" alt=\"Open In Colab\"/></a>"
      ]
    },
    {
      "cell_type": "code",
      "execution_count": null,
      "metadata": {
        "colab": {
          "base_uri": "https://localhost:8080/"
        },
        "id": "yd8Jh6iqRpbR",
        "outputId": "33c6f8eb-2311-422a-b3b0-c6b12e2b6d5c"
      },
      "outputs": [
        {
          "output_type": "stream",
          "name": "stdout",
          "text": [
            "Sleeping 1 sec\n",
            "Done Sleeping...\n",
            "Sleeping 1 sec\n",
            "Done Sleeping...\n",
            "Finished in 2.01 second(s)\n"
          ]
        }
      ],
      "source": [
        "import time\n",
        "#Synchronous running of a program\n",
        "start=time.perf_counter()\n",
        "\n",
        "def do_something():\n",
        "    print('Sleeping 1 sec')\n",
        "    time.sleep(1)\n",
        "    print('Done Sleeping...')\n",
        "\n",
        "do_something()\n",
        "do_something()\n",
        "\n",
        "finish=time.perf_counter()\n",
        "\n",
        "print(f'Finished in {round(finish-start,2)} second(s)')"
      ]
    },
    {
      "cell_type": "code",
      "source": [
        "#CPU bound tasks: uses a lot of numbers and the CPU\n",
        "#IO bound tasks wait for input and output ops to be completed and dont use the CPU that much\n",
        "\n",
        "#Some programs run slower with threads because of the added overhead cost of creating and destroying multiple threads\n",
        "\n",
        "#CONCURRENCY gives the illusion of running the code at the same time. While its waiting for the IO ops to finish\n",
        "#it moves on with the other scripts of code\n",
        "\n",
        "\n",
        "#threading\n",
        "import time\n",
        "import threading\n",
        "start=time.perf_counter()\n",
        "\n",
        "def do_something():\n",
        "    print('Sleeping 1 sec...')\n",
        "    time.sleep(1)\n",
        "    print('Done Sleeping...')\n",
        "\n",
        "t1=threading.Thread(target=do_something) #just passing the function without execution\n",
        "t2=threading.Thread(target=do_something)\n",
        "\n",
        "t1.start()\n",
        "t2.start()\n",
        "\n",
        "t1.join()#ensures that they calc time only after they are DONE SLEEPING\n",
        "t2.join()\n",
        "\n",
        "finish=time.perf_counter()\n",
        "\n",
        "print(f'Finished in {round(finish-start,2)} second(s)')"
      ],
      "metadata": {
        "colab": {
          "base_uri": "https://localhost:8080/"
        },
        "id": "rvyjSdXtR104",
        "outputId": "205c8700-bbac-4a79-ab44-549dbff09c1c"
      },
      "execution_count": null,
      "outputs": [
        {
          "output_type": "stream",
          "name": "stdout",
          "text": [
            "Sleeping 1 sec...\n",
            "Sleeping 1 sec...\n",
            "Done Sleeping...\n",
            "Done Sleeping...\n",
            "Finished in 1.01 second(s)\n"
          ]
        }
      ]
    },
    {
      "cell_type": "code",
      "source": [
        "import time\n",
        "import threading\n",
        "start=time.perf_counter()\n",
        "\n",
        "def do_something():\n",
        "    print('Sleeping 1 sec...\\n')\n",
        "    time.sleep(1)\n",
        "    print('Done Sleeping...\\n')\n",
        "\n",
        "threads=[]\n",
        "for _ in range(10):\n",
        "    t=threading.Thread(target=do_something)\n",
        "    t.start()\n",
        "    threads.append(t)\n",
        "\n",
        "for thread in threads:\n",
        "    thread.join() #ensures that time is calculated only after the thread is done sleeping\n",
        "\n",
        "finish=time.perf_counter()\n",
        "\n",
        "print(f'Finished in {round(finish-start,2)} second(s)')"
      ],
      "metadata": {
        "colab": {
          "base_uri": "https://localhost:8080/"
        },
        "id": "nH18Mhy1SLoI",
        "outputId": "e6dd931e-7fc6-4dc9-ec89-b0911d9eb922"
      },
      "execution_count": null,
      "outputs": [
        {
          "output_type": "stream",
          "name": "stdout",
          "text": [
            "Sleeping 1 sec...\n",
            "\n",
            "Sleeping 1 sec...\n",
            "\n",
            "Sleeping 1 sec...\n",
            "\n",
            "Sleeping 1 sec...\n",
            "\n",
            "Sleeping 1 sec...\n",
            "\n",
            "Sleeping 1 sec...\n",
            "\n",
            "Sleeping 1 sec...\n",
            "\n",
            "Sleeping 1 sec...\n",
            "\n",
            "Sleeping 1 sec...\n",
            "\n",
            "Sleeping 1 sec...\n",
            "\n",
            "Done Sleeping...\n",
            "\n",
            "Done Sleeping...\n",
            "\n",
            "Done Sleeping...\n",
            "\n",
            "Done Sleeping...\n",
            "\n",
            "Done Sleeping...\n",
            "\n",
            "Done Sleeping...\n",
            "\n",
            "Done Sleeping...\n",
            "\n",
            "Done Sleeping...\n",
            "\n",
            "Done Sleeping...\n",
            "\n",
            "Done Sleeping...\n",
            "\n",
            "Finished in 1.03 second(s)\n"
          ]
        }
      ]
    },
    {
      "cell_type": "code",
      "source": [
        "#Using concurrent programming\n",
        "import concurrent.futures\n",
        "import threading\n",
        "import time\n",
        "start=time.perf_counter()\n",
        "\n",
        "def do_something(seconds):\n",
        "    print(f'Sleeping {seconds} second(s)...')\n",
        "    time.sleep(seconds)\n",
        "    return 'Done Sleeping...'\n",
        "\n",
        "with concurrent.futures.ThreadPoolExecutor() as executor:\n",
        "    f1=executor.submit(do_something,1)\n",
        "    f2=executor.submit(do_something,1)\n",
        "    print(f1.result())\n",
        "    print(f2.result())\n",
        "finish=time.perf_counter()\n",
        "\n",
        "print(f'Finished in {round(finish-start,2)} second(s)')"
      ],
      "metadata": {
        "colab": {
          "base_uri": "https://localhost:8080/"
        },
        "id": "_DtOI9TNSSSB",
        "outputId": "58058b34-e9dd-4155-f67b-b377a869abd1"
      },
      "execution_count": null,
      "outputs": [
        {
          "output_type": "stream",
          "name": "stdout",
          "text": [
            "Sleeping 1 second(s)...\n",
            "Sleeping 1 second(s)...\n",
            "Done Sleeping...\n",
            "Done Sleeping...\n",
            "Finished in 1.02 second(s)\n"
          ]
        }
      ]
    },
    {
      "cell_type": "code",
      "source": [
        "#Using a for loop for executing many threads\n",
        "import concurrent.futures\n",
        "import threading\n",
        "import time\n",
        "start=time.perf_counter()\n",
        "\n",
        "def do_something(seconds):\n",
        "    print(f'Sleeping {seconds} second(s)...')\n",
        "    time.sleep(seconds)\n",
        "    return f'Done Sleeping...{seconds}'\n",
        "\n",
        "with concurrent.futures.ThreadPoolExecutor() as executor:\n",
        "    secs=[5,4,3,2,1]\n",
        "    results=[executor.submit(do_something,sec) for sec in secs]\n",
        "\n",
        "    for f in concurrent.futures.as_completed(results): #if we use as_completed, it means results get printed as a function is completed\n",
        "        print(f.result())\n",
        "\n",
        "finish=time.perf_counter()\n",
        "print(f'Finished in {round(finish-start,2)} second(s)')"
      ],
      "metadata": {
        "colab": {
          "base_uri": "https://localhost:8080/"
        },
        "id": "FmLQVjFVSXEw",
        "outputId": "c78321bf-5968-404a-f502-d3cec9a82e93"
      },
      "execution_count": null,
      "outputs": [
        {
          "output_type": "stream",
          "name": "stdout",
          "text": [
            "Sleeping 5 second(s)...\n",
            "Sleeping 4 second(s)...\n",
            "Sleeping 3 second(s)...\n",
            "Sleeping 2 second(s)...\n",
            "Sleeping 1 second(s)...\n",
            "Done Sleeping...1\n",
            "Done Sleeping...2\n",
            "Done Sleeping...3\n",
            "Done Sleeping...4\n",
            "Done Sleeping...5\n",
            "Finished in 5.03 second(s)\n"
          ]
        }
      ]
    },
    {
      "cell_type": "code",
      "source": [
        "#using map function to print the results in the order in which they were called\n",
        "#doesnt mean they got completed in the same sequence\n",
        "import concurrent.futures\n",
        "import threading\n",
        "import time\n",
        "start=time.perf_counter()\n",
        "\n",
        "def do_something(seconds):\n",
        "    print(f'Sleeping {seconds} second(s)')\n",
        "    time.sleep(seconds)\n",
        "    return f'Done Sleeping...{seconds}'\n",
        "\n",
        "with concurrent.futures.ThreadPoolExecutor() as executor:\n",
        "    secs=[5,4,3,2,1]\n",
        "    results=executor.map(do_something,secs)\n",
        "for result in results:\n",
        "    print(result)\n",
        "\n",
        "  #threading can be used when downloading multiple images from a website"
      ],
      "metadata": {
        "colab": {
          "base_uri": "https://localhost:8080/"
        },
        "id": "MjjQCJbtSapT",
        "outputId": "519441ff-6166-4dfd-b3f3-2fe66b42d3f4"
      },
      "execution_count": null,
      "outputs": [
        {
          "output_type": "stream",
          "name": "stdout",
          "text": [
            "Sleeping 5 second(s)\n",
            "Sleeping 4 second(s)\n",
            "Sleeping 3 second(s)\n",
            "Sleeping 2 second(s)\n",
            "Sleeping 1 second(s)\n",
            "Done Sleeping...5\n",
            "Done Sleeping...4\n",
            "Done Sleeping...3\n",
            "Done Sleeping...2\n",
            "Done Sleeping...1\n"
          ]
        }
      ]
    },
    {
      "cell_type": "code",
      "source": [
        "#Multiprocessing (running in parallel and at the same time)\n",
        "#we wont get much speed in running threads in CPU bound tasks\n",
        "\n",
        "#older way of multiprocessing\n",
        "import multiprocessing\n",
        "import time\n",
        "\n",
        "start=time.perf_counter()\n",
        "\n",
        "def do_something():\n",
        "    print(\"Sleeping 1 second...\")\n",
        "    time.sleep(1)\n",
        "    print(\"Done Sleeping...\")\n",
        "\n",
        "p1=multiprocessing.Process(target=do_something)\n",
        "p2=multiprocessing.Process(target=do_something)\n",
        "\n",
        "p1.start()\n",
        "p2.start()\n",
        "\n",
        "p1.join()\n",
        "p2.join()\n",
        "\n",
        "finish=time.perf_counter()\n",
        "\n",
        "print(f'Finished in {round(finish-start,2)} second(s)')"
      ],
      "metadata": {
        "colab": {
          "base_uri": "https://localhost:8080/"
        },
        "id": "DAjvGqzVSga_",
        "outputId": "b0842ea5-1961-4210-8ee5-2764d239029d"
      },
      "execution_count": null,
      "outputs": [
        {
          "output_type": "stream",
          "name": "stdout",
          "text": [
            "Sleeping 1 second...\n",
            "Sleeping 1 second...\n",
            "Done Sleeping...\n",
            "Done Sleeping...\n",
            "Finished in 1.05 second(s)\n"
          ]
        }
      ]
    },
    {
      "cell_type": "code",
      "source": [
        "#looping\n",
        "import multiprocessing\n",
        "import time\n",
        "\n",
        "start=time.perf_counter()\n",
        "def do_something():\n",
        "    print(\"Sleeping 1 second...\")\n",
        "    time.sleep(1)\n",
        "    print(\"Done Sleeping...\")\n",
        "\n",
        "processes=[]\n",
        "for _ in range(10):\n",
        "    p=multiprocessing.Process(target=do_something)\n",
        "    p.start()\n",
        "#we need all processes to start in the same loop and loop through them again to apply join\n",
        "#method so that they complete and then only the finish time is calculated\n",
        "    processes.append(p)\n",
        "\n",
        "for process in processes:\n",
        "    process.join()\n",
        "\n",
        "finish=time.perf_counter()\n",
        "print(f'Finished in {round(finish-start,2)} second(s)')"
      ],
      "metadata": {
        "colab": {
          "base_uri": "https://localhost:8080/"
        },
        "id": "Df6R3bKNSqAM",
        "outputId": "17300935-04c4-49bd-d0dd-ede9d05db099"
      },
      "execution_count": null,
      "outputs": [
        {
          "output_type": "stream",
          "name": "stdout",
          "text": [
            "Sleeping 1 second...\n",
            "Sleeping 1 second...Sleeping 1 second...\n",
            "\n",
            "Sleeping 1 second...\n",
            "Sleeping 1 second...Sleeping 1 second...\n",
            "Sleeping 1 second...\n",
            "\n",
            "Sleeping 1 second...\n",
            "Sleeping 1 second...Sleeping 1 second...\n",
            "\n",
            "Done Sleeping...\n",
            "Done Sleeping...Done Sleeping...\n",
            "\n",
            "Done Sleeping...\n",
            "Done Sleeping...\n",
            "Done Sleeping...\n",
            "Done Sleeping...\n",
            "Done Sleeping...\n",
            "Done Sleeping...\n",
            "Done Sleeping...\n",
            "Finished in 1.2 second(s)\n"
          ]
        }
      ]
    },
    {
      "cell_type": "code",
      "source": [
        "#function with argument\n",
        "import multiprocessing\n",
        "import time\n",
        "\n",
        "start=time.perf_counter()\n",
        "def do_something(seconds):\n",
        "    print(f\"Sleeping {seconds} second(s)...\")\n",
        "    time.sleep(1)\n",
        "    print(\"Done Sleeping...\")\n",
        "\n",
        "processes=[]\n",
        "for _ in range(10):\n",
        "    p=multiprocessing.Process(target=do_something,args=[5])\n",
        "    p.start()\n",
        "    processes.append(p)\n",
        "\n",
        "for process in processes:\n",
        "    process.join()\n",
        "\n",
        "finish=time.perf_counter()\n",
        "print(f'Finished in {round(finish-start,2)} second(s)')"
      ],
      "metadata": {
        "colab": {
          "base_uri": "https://localhost:8080/"
        },
        "id": "DZevKdujSs5e",
        "outputId": "50115c61-d34b-425d-c074-dbe024140a44"
      },
      "execution_count": null,
      "outputs": [
        {
          "output_type": "stream",
          "name": "stdout",
          "text": [
            "Sleeping 5 second(s)...\n",
            "Sleeping 5 second(s)...Sleeping 5 second(s)...Sleeping 5 second(s)...\n",
            "\n",
            "\n",
            "Sleeping 5 second(s)...\n",
            "Sleeping 5 second(s)...\n",
            "Sleeping 5 second(s)...Sleeping 5 second(s)...\n",
            "\n",
            "Sleeping 5 second(s)...\n",
            "Sleeping 5 second(s)...\n",
            "Done Sleeping...\n",
            "Done Sleeping...Done Sleeping...Done Sleeping...\n",
            "\n",
            "\n",
            "Done Sleeping...\n",
            "Done Sleeping...\n",
            "Done Sleeping...\n",
            "Done Sleeping...\n",
            "Done Sleeping...\n",
            "Done Sleeping...\n",
            "Finished in 1.23 second(s)\n"
          ]
        }
      ]
    },
    {
      "cell_type": "code",
      "source": [
        "#better method of multiprocessing\n",
        "import concurrent.futures\n",
        "import time\n",
        "\n",
        "start=time.perf_counter()\n",
        "def do_something(seconds):\n",
        "    print(f\"Sleeping {seconds} second(s)...\")\n",
        "    time.sleep(1)\n",
        "    return \"Done Sleeping...\"\n",
        "\n",
        "with concurrent.futures.ProcessPoolExecutor() as executor:\n",
        "  f1=executor.submit(do_something,1) #schedules a function to be executed and\n",
        "  f2=executor.submit(do_something,1)\n",
        "  print(f1.result())\n",
        "  print(f2.result())\n",
        "\n",
        "finish=time.perf_counter()\n",
        "print(f'Finished in {round(finish-start,2)} second(s)')\n"
      ],
      "metadata": {
        "colab": {
          "base_uri": "https://localhost:8080/"
        },
        "id": "_NaDPY7zVeRr",
        "outputId": "132c4a3c-a483-4ee0-f2d4-989aba4eb3ae"
      },
      "execution_count": null,
      "outputs": [
        {
          "output_type": "stream",
          "name": "stdout",
          "text": [
            "Sleeping 1 second(s)...\n",
            "Sleeping 1 second(s)...\n",
            "Done Sleeping...\n",
            "Done Sleeping...\n",
            "Finished in 1.05 second(s)\n"
          ]
        }
      ]
    },
    {
      "cell_type": "code",
      "source": [
        "#better method of multiprocessing with loop method\n",
        "import concurrent.futures\n",
        "import time\n",
        "\n",
        "start=time.perf_counter()\n",
        "def do_something(seconds):\n",
        "    print(f\"Sleeping {seconds} second(s)...\")\n",
        "    time.sleep(1)\n",
        "    return f\"Done Sleeping...{seconds}\"\n",
        "\n",
        "with concurrent.futures.ProcessPoolExecutor() as executor:\n",
        "  secs=[5,4,3,2,1]\n",
        "  results=[executor.submit(do_something,sec) for sec in secs]\n",
        "  for f in concurrent.futures.as_completed(results):\n",
        "    print(f.result())\n",
        "\n",
        "finish=time.perf_counter()\n",
        "print(f'Finished in {round(finish-start,2)} second(s)')\n"
      ],
      "metadata": {
        "colab": {
          "base_uri": "https://localhost:8080/"
        },
        "id": "4c1-ru6XWoWI",
        "outputId": "e846b3a2-cdb0-45c1-e2c9-f00d7e05d808"
      },
      "execution_count": null,
      "outputs": [
        {
          "output_type": "stream",
          "name": "stdout",
          "text": [
            "Sleeping 4 second(s)...Sleeping 5 second(s)...\n",
            "\n",
            "Sleeping 2 second(s)...Sleeping 3 second(s)...\n",
            "\n",
            "Done Sleeping...4\n",
            "Done Sleeping...5\n",
            "Sleeping 1 second(s)...\n",
            "Done Sleeping...3\n",
            "Done Sleeping...2\n",
            "Done Sleeping...1\n",
            "Finished in 3.06 second(s)\n"
          ]
        }
      ]
    },
    {
      "cell_type": "code",
      "source": [
        "#We use threads for things which are CPU bound\n",
        "#We use processors for things which are IO bound\n"
      ],
      "metadata": {
        "id": "uH1i1-UmXgjb"
      },
      "execution_count": null,
      "outputs": []
    }
  ]
}