{
  "nbformat": 4,
  "nbformat_minor": 0,
  "metadata": {
    "colab": {
      "provenance": [],
      "authorship_tag": "ABX9TyOlc1gRJzxmaRmus9Uqkpjw",
      "include_colab_link": true
    },
    "kernelspec": {
      "name": "python3",
      "display_name": "Python 3"
    },
    "language_info": {
      "name": "python"
    }
  },
  "cells": [
    {
      "cell_type": "markdown",
      "metadata": {
        "id": "view-in-github",
        "colab_type": "text"
      },
      "source": [
        "<a href=\"https://colab.research.google.com/github/HemanthS3149/zoho_intern_work/blob/Week-4/Linear_Regression_and_Gradient_descent_using_pytorch.ipynb\" target=\"_parent\"><img src=\"https://colab.research.google.com/assets/colab-badge.svg\" alt=\"Open In Colab\"/></a>"
      ]
    },
    {
      "cell_type": "code",
      "execution_count": 1,
      "metadata": {
        "id": "bj_WJwFUlSJs"
      },
      "outputs": [],
      "source": [
        "import numpy as np\n",
        "import torch"
      ]
    },
    {
      "cell_type": "markdown",
      "source": [
        "Gradient is the derivative of the loss\n",
        "\n",
        "We can calculate the gradient wrt to the weights and biases if they have requires_grad set to True.\n",
        "\n",
        "Gradient indicates the rate of change of loss\n",
        "\n",
        "We can subtract from each weight element a small quantity proportional to the derivative of the loss wrt that element to reduce the loss slightly\n"
      ],
      "metadata": {
        "id": "HLObjyvPmxiK"
      }
    },
    {
      "cell_type": "markdown",
      "source": [
        "**Linear regression using PyTorch builtins**"
      ],
      "metadata": {
        "id": "lSa3tcSuognA"
      }
    },
    {
      "cell_type": "code",
      "source": [
        "import torch.nn as nn"
      ],
      "metadata": {
        "id": "EDGHrhLAnDA_"
      },
      "execution_count": 2,
      "outputs": []
    },
    {
      "cell_type": "code",
      "source": [
        "inputs = np.array([[73, 67, 43], #temp,rainfall,humidity\n",
        "                   [91, 88, 64],\n",
        "                   [87, 134, 58],\n",
        "                   [102, 43, 37],\n",
        "                   [69, 96, 70],\n",
        "                   [74, 66, 43],\n",
        "                   [91, 87, 65],\n",
        "                   [88, 134, 59],\n",
        "                   [101, 44, 37],\n",
        "                   [68, 96, 71],\n",
        "                   [73, 66, 44],\n",
        "                   [92, 87, 64],\n",
        "                   [87, 135, 57],\n",
        "                   [103, 43, 36],\n",
        "                   [68, 97, 70]],\n",
        "                  dtype='float32')\n",
        "\n",
        "targets=np.array([[56, 70],\n",
        "                    [81, 101],\n",
        "                    [119, 133], #apples and oranges\n",
        "                    [22, 37],\n",
        "                    [103, 119],\n",
        "                    [57, 69],\n",
        "                    [80, 102],\n",
        "                    [118, 132],\n",
        "                    [21, 38],\n",
        "                    [104, 118],\n",
        "                    [57, 69],\n",
        "                    [82, 100],\n",
        "                    [118, 134],\n",
        "                    [20, 38],\n",
        "                    [102, 120]],\n",
        "                 dtype='float32')\n",
        "\n",
        "inputs=torch.from_numpy(inputs) #converts numpy array into tensor\n",
        "targets=torch.from_numpy(targets)"
      ],
      "metadata": {
        "id": "pSDr_OSPo1Uu"
      },
      "execution_count": 4,
      "outputs": []
    },
    {
      "cell_type": "code",
      "source": [
        "inputs,targets"
      ],
      "metadata": {
        "colab": {
          "base_uri": "https://localhost:8080/"
        },
        "id": "nqiHMnzSpUVl",
        "outputId": "873b6cfd-119f-42bf-d1ac-5aa2e6486b4d"
      },
      "execution_count": 7,
      "outputs": [
        {
          "output_type": "execute_result",
          "data": {
            "text/plain": [
              "(tensor([[ 73.,  67.,  43.],\n",
              "         [ 91.,  88.,  64.],\n",
              "         [ 87., 134.,  58.],\n",
              "         [102.,  43.,  37.],\n",
              "         [ 69.,  96.,  70.],\n",
              "         [ 74.,  66.,  43.],\n",
              "         [ 91.,  87.,  65.],\n",
              "         [ 88., 134.,  59.],\n",
              "         [101.,  44.,  37.],\n",
              "         [ 68.,  96.,  71.],\n",
              "         [ 73.,  66.,  44.],\n",
              "         [ 92.,  87.,  64.],\n",
              "         [ 87., 135.,  57.],\n",
              "         [103.,  43.,  36.],\n",
              "         [ 68.,  97.,  70.]]),\n",
              " tensor([[ 56.,  70.],\n",
              "         [ 81., 101.],\n",
              "         [119., 133.],\n",
              "         [ 22.,  37.],\n",
              "         [103., 119.],\n",
              "         [ 57.,  69.],\n",
              "         [ 80., 102.],\n",
              "         [118., 132.],\n",
              "         [ 21.,  38.],\n",
              "         [104., 118.],\n",
              "         [ 57.,  69.],\n",
              "         [ 82., 100.],\n",
              "         [118., 134.],\n",
              "         [ 20.,  38.],\n",
              "         [102., 120.]]))"
            ]
          },
          "metadata": {},
          "execution_count": 7
        }
      ]
    },
    {
      "cell_type": "markdown",
      "source": [
        "We use small training examples to illustrate how to work with large datasets in small batches"
      ],
      "metadata": {
        "id": "yqlfC_hvpxgc"
      }
    },
    {
      "cell_type": "markdown",
      "source": [
        "**Dataset and DataLoader**\n",
        "\n",
        "A TensorDataset, allows access to rows from inputs and targets as tuples and provides standard APIs for working with many different types of datasets in PyTorch"
      ],
      "metadata": {
        "id": "MTqa7BYwrewj"
      }
    },
    {
      "cell_type": "code",
      "source": [
        "from torch.utils.data import TensorDataset"
      ],
      "metadata": {
        "id": "V0KzlAWvpjSW"
      },
      "execution_count": 8,
      "outputs": []
    },
    {
      "cell_type": "code",
      "source": [
        "#Define dataset\n",
        "train_ds=TensorDataset(inputs,targets)\n",
        "train_ds[0:3]"
      ],
      "metadata": {
        "colab": {
          "base_uri": "https://localhost:8080/"
        },
        "id": "f2_-pxsYr32f",
        "outputId": "96ccff56-e3d4-4f0e-d96f-6eae01855124"
      },
      "execution_count": 9,
      "outputs": [
        {
          "output_type": "execute_result",
          "data": {
            "text/plain": [
              "(tensor([[ 73.,  67.,  43.],\n",
              "         [ 91.,  88.,  64.],\n",
              "         [ 87., 134.,  58.]]),\n",
              " tensor([[ 56.,  70.],\n",
              "         [ 81., 101.],\n",
              "         [119., 133.]]))"
            ]
          },
          "metadata": {},
          "execution_count": 9
        }
      ]
    },
    {
      "cell_type": "markdown",
      "source": [
        "**DataLoader** can split the data into batches of predifined size while training, and provides other utilities like shuffling and random sampling of data\n"
      ],
      "metadata": {
        "id": "ZcrJCrQisF0d"
      }
    },
    {
      "cell_type": "code",
      "source": [
        "from torch.utils.data import DataLoader"
      ],
      "metadata": {
        "id": "1njEcYMWr9OI"
      },
      "execution_count": 11,
      "outputs": []
    },
    {
      "cell_type": "code",
      "source": [
        "batch_size=5\n",
        "train_dl=DataLoader(train_ds,batch_size,shuffle=True)#In each epoch we want different set of training data"
      ],
      "metadata": {
        "id": "8O8To35IsVNS"
      },
      "execution_count": 20,
      "outputs": []
    },
    {
      "cell_type": "code",
      "source": [
        "for xb,yb in train_dl:\n",
        "  print(xb)\n",
        "  print(yb)\n",
        "  break"
      ],
      "metadata": {
        "colab": {
          "base_uri": "https://localhost:8080/"
        },
        "id": "oYy6QD7FsjEH",
        "outputId": "3c3d7fb5-1502-4723-ef3a-843873adb0ab"
      },
      "execution_count": 21,
      "outputs": [
        {
          "output_type": "stream",
          "name": "stdout",
          "text": [
            "tensor([[ 87., 135.,  57.],\n",
            "        [ 68.,  96.,  71.],\n",
            "        [ 73.,  66.,  44.],\n",
            "        [ 69.,  96.,  70.],\n",
            "        [ 68.,  97.,  70.]])\n",
            "tensor([[118., 134.],\n",
            "        [104., 118.],\n",
            "        [ 57.,  69.],\n",
            "        [103., 119.],\n",
            "        [102., 120.]])\n"
          ]
        }
      ]
    },
    {
      "cell_type": "markdown",
      "source": [
        "**nn.Linear** instead of initializing the w & b manually, we can define the model using nn.Linear\n"
      ],
      "metadata": {
        "id": "4PwEO3-YtwaL"
      }
    },
    {
      "cell_type": "code",
      "source": [
        "#Defining the model\n",
        "model=nn.Linear(3,2)\n",
        "print(model.weight)\n",
        "print(model.bias)"
      ],
      "metadata": {
        "colab": {
          "base_uri": "https://localhost:8080/"
        },
        "id": "5MlcZYIBsnZj",
        "outputId": "c9d5ad70-27e4-4181-c0a7-c046b1732451"
      },
      "execution_count": 22,
      "outputs": [
        {
          "output_type": "stream",
          "name": "stdout",
          "text": [
            "Parameter containing:\n",
            "tensor([[ 0.0814, -0.4394,  0.2875],\n",
            "        [-0.3187,  0.4343,  0.3237]], requires_grad=True)\n",
            "Parameter containing:\n",
            "tensor([0.3266, 0.5456], requires_grad=True)\n"
          ]
        }
      ]
    },
    {
      "cell_type": "code",
      "source": [
        "#.parameters() method returns a list of all weights and bias matrices present\n",
        "list(model.parameters())"
      ],
      "metadata": {
        "colab": {
          "base_uri": "https://localhost:8080/"
        },
        "id": "0LFoN3dNt-14",
        "outputId": "2c964e6d-ac6e-4a1e-9677-a16eda0425af"
      },
      "execution_count": 23,
      "outputs": [
        {
          "output_type": "execute_result",
          "data": {
            "text/plain": [
              "[Parameter containing:\n",
              " tensor([[ 0.0814, -0.4394,  0.2875],\n",
              "         [-0.3187,  0.4343,  0.3237]], requires_grad=True),\n",
              " Parameter containing:\n",
              " tensor([0.3266, 0.5456], requires_grad=True)]"
            ]
          },
          "metadata": {},
          "execution_count": 23
        }
      ]
    },
    {
      "cell_type": "code",
      "source": [
        "#Generate predictions\n",
        "preds=model(inputs)\n",
        "preds"
      ],
      "metadata": {
        "colab": {
          "base_uri": "https://localhost:8080/"
        },
        "id": "HRmUDKSCuJSM",
        "outputId": "1e04603a-6af8-4d3c-904a-7debc60a46c8"
      },
      "execution_count": 24,
      "outputs": [
        {
          "output_type": "execute_result",
          "data": {
            "text/plain": [
              "tensor([[-10.8076,  20.2923],\n",
              "        [-12.5323,  30.4720],\n",
              "        [-34.7937,  49.7816],\n",
              "        [  0.3731,  -1.3158],\n",
              "        [-16.1133,  42.9005],\n",
              "        [-10.2869,  19.5393],\n",
              "        [-11.8055,  30.3614],\n",
              "        [-34.4248,  49.7866],\n",
              "        [ -0.1477,  -0.5628],\n",
              "        [-15.9072,  43.5429],\n",
              "        [-10.0808,  20.1817],\n",
              "        [-12.0115,  29.7190],\n",
              "        [-35.5205,  49.8922],\n",
              "        [  0.1670,  -1.9582],\n",
              "        [-16.6341,  43.6535]], grad_fn=<AddmmBackward0>)"
            ]
          },
          "metadata": {},
          "execution_count": 24
        }
      ]
    },
    {
      "cell_type": "markdown",
      "source": [
        "**Loss Function**: We can use the built in loss func mse_loss"
      ],
      "metadata": {
        "id": "YzhmMujquaCG"
      }
    },
    {
      "cell_type": "code",
      "source": [
        "import torch.nn.functional as F#contains many loss funcs and other utilities"
      ],
      "metadata": {
        "id": "RC-QGH7buQs0"
      },
      "execution_count": 26,
      "outputs": []
    },
    {
      "cell_type": "code",
      "source": [
        "loss_fn=F.mse_loss"
      ],
      "metadata": {
        "id": "WCR42Y2Eui43"
      },
      "execution_count": 27,
      "outputs": []
    },
    {
      "cell_type": "code",
      "source": [
        "loss=loss_fn(model(inputs),targets)\n",
        "print(loss)"
      ],
      "metadata": {
        "colab": {
          "base_uri": "https://localhost:8080/"
        },
        "id": "-TjuxqL1uqQV",
        "outputId": "0dd9cd34-5342-4004-88c1-5c091176a76a"
      },
      "execution_count": 28,
      "outputs": [
        {
          "output_type": "stream",
          "name": "stdout",
          "text": [
            "tensor(7290.9326, grad_fn=<MseLossBackward0>)\n"
          ]
        }
      ]
    },
    {
      "cell_type": "markdown",
      "source": [
        "**Optimizer:** automatically manipulates the models weights and biases. (stochastic stands as in the samples are selected in random batches instead of a single group)"
      ],
      "metadata": {
        "id": "ttbPt6ypuxjU"
      }
    },
    {
      "cell_type": "code",
      "source": [
        "opt=torch.optim.SGD(model.parameters(),lr=1e-5) #Learning rate controls the amount by which the parameters are modified"
      ],
      "metadata": {
        "id": "SmNUirNIuvhz"
      },
      "execution_count": 30,
      "outputs": []
    },
    {
      "cell_type": "markdown",
      "source": [
        "**Train the model**\n",
        "\n",
        "1.Generate predictions\n",
        "\n",
        "2.Calculate the loss\n",
        "\n",
        "3.Compute gradients wrt weights and biases\n",
        "\n",
        "4.Adjusts the weights by subtracting a small quantity proportional to the gradient\n",
        "\n",
        "5.Reset the gradients to zero"
      ],
      "metadata": {
        "id": "-HB9EdvJwM14"
      }
    },
    {
      "cell_type": "code",
      "source": [
        "#Utility function to train the model\n",
        "def fit(num_epochs,model,loss_fn,opt,train_dl):\n",
        "  for epoch in range(num_epochs):\n",
        "    for xb,yb in train_dl:\n",
        "      pred=model(xb)\n",
        "      loss=loss_fn(pred,yb)\n",
        "      loss.backward() #compute gradients\n",
        "      opt.step() #Update parameters using gradients\n",
        "      opt.zero_grad()#reset the gradients to 0\n",
        "\n",
        "    if(epoch+1)%10==0:\n",
        "      print('Epoch [{}/{}],Loss:{:.4f}'.format(epoch+1,num_epochs,loss.item()))"
      ],
      "metadata": {
        "id": "RzN3nrmavOS2"
      },
      "execution_count": 31,
      "outputs": []
    },
    {
      "cell_type": "code",
      "source": [
        "fit(100,model,loss_fn,opt,train_dl)"
      ],
      "metadata": {
        "colab": {
          "base_uri": "https://localhost:8080/"
        },
        "id": "705BPKKCyTwX",
        "outputId": "94de4361-1404-4475-a163-daacbc69b125"
      },
      "execution_count": 32,
      "outputs": [
        {
          "output_type": "stream",
          "name": "stdout",
          "text": [
            "Epoch [10/100],Loss:251.1195\n",
            "Epoch [20/100],Loss:215.5683\n",
            "Epoch [30/100],Loss:295.9462\n",
            "Epoch [40/100],Loss:114.7477\n",
            "Epoch [50/100],Loss:41.0195\n",
            "Epoch [60/100],Loss:87.0533\n",
            "Epoch [70/100],Loss:69.4483\n",
            "Epoch [80/100],Loss:12.6375\n",
            "Epoch [90/100],Loss:21.0829\n",
            "Epoch [100/100],Loss:9.3110\n"
          ]
        }
      ]
    },
    {
      "cell_type": "code",
      "source": [
        "preds=model(inputs)\n",
        "preds\n"
      ],
      "metadata": {
        "colab": {
          "base_uri": "https://localhost:8080/"
        },
        "id": "0GNe8NXzyajG",
        "outputId": "1710ea30-014c-486e-942a-907743c749e8"
      },
      "execution_count": 33,
      "outputs": [
        {
          "output_type": "execute_result",
          "data": {
            "text/plain": [
              "tensor([[ 58.3618,  71.1129],\n",
              "        [ 82.9602,  98.9767],\n",
              "        [113.5438, 135.9569],\n",
              "        [ 28.9153,  40.5819],\n",
              "        [ 98.8332, 114.1868],\n",
              "        [ 57.3603,  70.0411],\n",
              "        [ 82.9062,  98.7401],\n",
              "        [113.9470, 136.3860],\n",
              "        [ 29.9167,  41.6536],\n",
              "        [ 99.7806, 115.0220],\n",
              "        [ 58.3078,  70.8763],\n",
              "        [ 81.9588,  97.9049],\n",
              "        [113.5978, 136.1934],\n",
              "        [ 27.9678,  39.7466],\n",
              "        [ 99.8346, 115.2585]], grad_fn=<AddmmBackward0>)"
            ]
          },
          "metadata": {},
          "execution_count": 33
        }
      ]
    },
    {
      "cell_type": "code",
      "source": [
        "targets"
      ],
      "metadata": {
        "colab": {
          "base_uri": "https://localhost:8080/"
        },
        "id": "73Qy_1o-yu1B",
        "outputId": "6a013957-35b3-41c1-d779-b2d24a8042b7"
      },
      "execution_count": 34,
      "outputs": [
        {
          "output_type": "execute_result",
          "data": {
            "text/plain": [
              "tensor([[ 56.,  70.],\n",
              "        [ 81., 101.],\n",
              "        [119., 133.],\n",
              "        [ 22.,  37.],\n",
              "        [103., 119.],\n",
              "        [ 57.,  69.],\n",
              "        [ 80., 102.],\n",
              "        [118., 132.],\n",
              "        [ 21.,  38.],\n",
              "        [104., 118.],\n",
              "        [ 57.,  69.],\n",
              "        [ 82., 100.],\n",
              "        [118., 134.],\n",
              "        [ 20.,  38.],\n",
              "        [102., 120.]])"
            ]
          },
          "metadata": {},
          "execution_count": 34
        }
      ]
    },
    {
      "cell_type": "markdown",
      "source": [
        "**Inference:** We have trained a reasonably good model to predict crop yeilds for apples and oranges by looking at the average temperature,rainfall and humidity in a region."
      ],
      "metadata": {
        "id": "Gf_Xc53Ny3Ar"
      }
    },
    {
      "cell_type": "code",
      "source": [
        "model(torch.tensor([[75,63,44.]]))#55 hectares for apples and 67 hectares for oranges\n",
        "#model object which is an instance of nn.Linear is called with an input tensor\n",
        "#this triggers the forward method of nn.Linear class which does input@weight +bias"
      ],
      "metadata": {
        "colab": {
          "base_uri": "https://localhost:8080/"
        },
        "id": "7oMhTRvkytoF",
        "outputId": "4f13cd4d-e47f-4db5-9ebf-dc4a90209b2c"
      },
      "execution_count": 40,
      "outputs": [
        {
          "output_type": "execute_result",
          "data": {
            "text/plain": [
              "tensor([[55.5757, 67.8641]], grad_fn=<AddmmBackward0>)"
            ]
          },
          "metadata": {},
          "execution_count": 40
        }
      ]
    },
    {
      "cell_type": "code",
      "source": [
        "\n"
      ],
      "metadata": {
        "id": "EqSjD1APzLJl"
      },
      "execution_count": 36,
      "outputs": []
    },
    {
      "cell_type": "code",
      "source": [],
      "metadata": {
        "id": "1uox0905zU1o"
      },
      "execution_count": null,
      "outputs": []
    }
  ]
}