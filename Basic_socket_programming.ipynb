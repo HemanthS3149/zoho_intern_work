{
  "nbformat": 4,
  "nbformat_minor": 0,
  "metadata": {
    "colab": {
      "provenance": [],
      "authorship_tag": "ABX9TyMpS2RJ9yEa2DQ8bPKnORae",
      "include_colab_link": true
    },
    "kernelspec": {
      "name": "python3",
      "display_name": "Python 3"
    },
    "language_info": {
      "name": "python"
    }
  },
  "cells": [
    {
      "cell_type": "markdown",
      "metadata": {
        "id": "view-in-github",
        "colab_type": "text"
      },
      "source": [
        "<a href=\"https://colab.research.google.com/github/HemanthS3149/zoho_intern_work/blob/Week-1/Basic_socket_programming.ipynb\" target=\"_parent\"><img src=\"https://colab.research.google.com/assets/colab-badge.svg\" alt=\"Open In Colab\"/></a>"
      ]
    },
    {
      "cell_type": "code",
      "execution_count": null,
      "metadata": {
        "id": "19J5fXS0BDsL"
      },
      "outputs": [],
      "source": [
        "#Socket Programming\n",
        "import socket\n",
        "\n",
        "HOST='192.168.29.1'\n",
        "PORT=9999\n",
        "server=socket.socket(socket.AF_INET,socket.SOCK_STREAM)\n",
        "server.bind((HOST,PORT)) #then we listen for incoming connections # Bind the server to the specified host and port\n",
        "\n",
        "server.listen(5) #we allow 5 connections before rejecting\n",
        "\n",
        "while True:\n",
        "    communication_socket,address=server.accept()#when user tries to connect\n",
        "    #we get addr in the address var and the socket available for communication in the communication_socket var\n",
        "    print(f'Connected to {address}')\n",
        "    message=communication_socket.recv(1024).decode('utf-8')\n",
        "    print(f\"Message from client is: {message}\")\n",
        "    communication_socket.send(f\"Got your message!Thank you!\".encode('utf-8'))\n",
        "    communication_socket.close()\n",
        "    print(f\"Connection with {address} ended!\")"
      ]
    },
    {
      "cell_type": "code",
      "source": [
        "#Coding the client\n",
        "\n",
        "import socket\n",
        "HOST='192.168.29.1'\n",
        "PORT=9999\n",
        "socket=socket.socket(socket.AF_INET,socket.SOCK_STREAM)\n",
        "socket.connect((HOST,PORT)) #instead of bind function cause we are connecting\n",
        "socket.send(\"Hello World!\".encode('utf-8'))\n",
        "print(socket.recv(1024).decode('utf-8')) #decode what the server received\n"
      ],
      "metadata": {
        "id": "2shRXnEGBUON"
      },
      "execution_count": null,
      "outputs": []
    }
  ]
}