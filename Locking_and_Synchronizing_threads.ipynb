{
  "nbformat": 4,
  "nbformat_minor": 0,
  "metadata": {
    "colab": {
      "provenance": [],
      "authorship_tag": "ABX9TyMx1nKKpRKWRbKl2Lh8tlTK",
      "include_colab_link": true
    },
    "kernelspec": {
      "name": "python3",
      "display_name": "Python 3"
    },
    "language_info": {
      "name": "python"
    }
  },
  "cells": [
    {
      "cell_type": "markdown",
      "metadata": {
        "id": "view-in-github",
        "colab_type": "text"
      },
      "source": [
        "<a href=\"https://colab.research.google.com/github/HemanthS3149/zoho_intern_work/blob/Week-1/Locking_and_Synchronizing_threads.ipynb\" target=\"_parent\"><img src=\"https://colab.research.google.com/assets/colab-badge.svg\" alt=\"Open In Colab\"/></a>"
      ]
    },
    {
      "cell_type": "code",
      "execution_count": null,
      "metadata": {
        "colab": {
          "base_uri": "https://localhost:8080/"
        },
        "id": "ipy6fSFDFVWb",
        "outputId": "4fc37c74-1834-42bd-e546-f35dd0ee54be"
      },
      "outputs": [
        {
          "output_type": "stream",
          "name": "stdout",
          "text": [
            "4096.0\n",
            "8192.0\n"
          ]
        }
      ],
      "source": [
        "#python does not support multithreading\n",
        "import threading\n",
        "import time\n",
        "\n",
        "x=8192\n",
        "\n",
        "def double():\n",
        "  global x\n",
        "  while x<16384:\n",
        "    x*=2\n",
        "    print(x)\n",
        "    time.sleep(1)\n",
        "    print(\"Reached the maximum!\")\n",
        "\n",
        "def halve():\n",
        "  global x\n",
        "  while x>1:\n",
        "    x/=2\n",
        "    print(x)\n",
        "    time.sleep(1)\n",
        "\n",
        "t1=threading.Thread(target=halve)\n",
        "t2=threading.Thread(target=double)\n",
        "\n",
        "t1.start()\n",
        "t2.start()\n",
        "\n",
        "#this results in an endless loop as no base condition is met"
      ]
    },
    {
      "cell_type": "code",
      "source": [
        "import threading\n",
        "import time\n",
        "x=8192\n",
        "lock=threading.Lock()\n",
        "\n",
        "def double():\n",
        "  global x,lock\n",
        "  lock.acquire()\n",
        "  while x<16384:\n",
        "    x*=2\n",
        "    print(x)\n",
        "    time.sleep(1)\n",
        "  print(\"Reached the maximum!\")\n",
        "  lock.release()\n",
        "\n",
        "def halve():\n",
        "  global x,lock\n",
        "  lock.acquire()\n",
        "  while x>1:\n",
        "    x/=2\n",
        "    print(x)\n",
        "    time.sleep(1)\n",
        "  print(\"Reached the minimum!\")\n",
        "  lock.release()\n",
        "\n",
        "t1=threading.Thread(target=halve)\n",
        "t2=threading.Thread(target=double)\n",
        "\n",
        "t1.start()\n",
        "t2.start()\n",
        "\n",
        "t1.join()\n",
        "t2.join()"
      ],
      "metadata": {
        "id": "pitXRawVLcML"
      },
      "execution_count": null,
      "outputs": []
    },
    {
      "cell_type": "code",
      "source": [
        " #use of semaphore: a semophore allows access of a fixed no of threads to a resource\n",
        " #whereas a lock allows access to only one thre\n",
        "import threading\n",
        "import time\n",
        "\n",
        "semaphore=threading.BoundedSemaphore(value=5)\n",
        "\n",
        "def access(thread_number):\n",
        "  print(\"{} is trying to access!\".format(thread_number))\n",
        "  semaphore.acquire()\n",
        "  print(\"{} was granted access!\".format(thread_number))\n",
        "  time.sleep(10)\n",
        "  print(\"{} is now releasing!\".format(thread_number))\n",
        "  semaphore.release()\n",
        "\n",
        "for thread_number in range(1,11):\n",
        "  t=threading.Thread(target=access,args=(thread_number,))\n",
        "  t.start()\n",
        "  time.sleep(1)"
      ],
      "metadata": {
        "id": "g0eJ3Ub-NUo0"
      },
      "execution_count": null,
      "outputs": []
    }
  ]
}